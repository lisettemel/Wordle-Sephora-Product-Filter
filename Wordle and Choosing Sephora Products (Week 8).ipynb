{
 "cells": [
  {
   "cell_type": "markdown",
   "id": "4844121a",
   "metadata": {},
   "source": [
    "# Assignment (week 8)\n",
    "## Complete the following tasks and make sure that you are getting the required output. \n",
    "- do not forget commenting your code, so it's more readable"
   ]
  },
  {
   "cell_type": "markdown",
   "id": "4d4f562b",
   "metadata": {},
   "source": [
    "## 1) You are given dataset \"words.csv\" (it is a in a zip file you have downloaded)\n",
    "\n",
    "write a piece of code to find all the possible answers to the __Wordle__ questions which their snapshots are on the Canvas"
   ]
  },
  {
   "cell_type": "code",
   "execution_count": 10,
   "id": "3453046c",
   "metadata": {},
   "outputs": [
    {
     "name": "stdout",
     "output_type": "stream",
     "text": [
      "ablow\n",
      "achoo\n",
      "acool\n",
      "aflow\n",
      "aglow\n",
      "algol\n",
      "alloo\n",
      "allow\n",
      "aloof\n",
      "assoc\n"
     ]
    }
   ],
   "source": [
    "#write code for wordle 1\n",
    "import pandas as pd\n",
    "words = pd.read_csv('words.csv')\n",
    "words = words[['word']]\n",
    "\n",
    "letters = 'uditpinkyrmr'\n",
    "\n",
    "for i in range(len(words)):\n",
    "    word = words['word'].iloc[i]\n",
    "    if len(word)==5:\n",
    "        if word[0]=='a' and word[3]=='o':\n",
    "            if word[1] not in letters and word[2] not in letters and word[4] not in letters:\n",
    "                print(word)\n"
   ]
  },
  {
   "cell_type": "code",
   "execution_count": null,
   "id": "71a622e1",
   "metadata": {},
   "outputs": [],
   "source": []
  },
  {
   "cell_type": "code",
   "execution_count": null,
   "id": "264f1f3f",
   "metadata": {},
   "outputs": [],
   "source": []
  },
  {
   "cell_type": "code",
   "execution_count": 22,
   "id": "6865229d",
   "metadata": {},
   "outputs": [
    {
     "name": "stdout",
     "output_type": "stream",
     "text": [
      "bloat\n",
      "croat\n",
      "float\n",
      "oblat\n",
      "ploat\n",
      "troat\n"
     ]
    }
   ],
   "source": [
    "#write code for wordle 2\n",
    "\n",
    "letters = 'semdughwis'\n",
    "\n",
    "for word in words['word']:\n",
    "    if len(word)==5:\n",
    "        if word[3]=='a' and word[4]=='t':\n",
    "            if (word[0] not in letters) and (word[1] not in letters) and (word[2] not in letters):\n",
    "                if ('t' in word and word[1]!='t') and ('o' in word and word[1]!='o') and ('a' in word and word[1]!='a'):\n",
    "                    print(word)\n",
    "           "
   ]
  },
  {
   "cell_type": "markdown",
   "id": "b9ca11b4",
   "metadata": {},
   "source": [
    "## 2) You are given the dataset of the Sephora website. \"sephora_website_dataset.csv\" (it is a in a zip file you have downloaded)\n",
    "\n",
    "I want to buy a perfume for my friend's birthday. please help me to find a affordable and lovely one.\n",
    "- \"affordable\" for me is less the $60\n",
    "- \"lovely\" for me means that it has the highest rate among the items which has at least 80 reviews\n",
    "<br><br>\n",
    "I want to choose the item at the end, so please suggest me the top 5 items that you can find. it would be nice if you can provide the URL of the product page so I can choose and order directly.\n",
    "I truly appreciate your help 🧡\n",
    "\n",
    "__**__ _Note that most of the data is outdated so the prices are not updated_"
   ]
  },
  {
   "cell_type": "code",
   "execution_count": 23,
   "id": "db50fc4c",
   "metadata": {},
   "outputs": [],
   "source": [
    "#write your code here\n",
    "seph = pd.read_csv('sephora_website_dataset.csv')"
   ]
  },
  {
   "cell_type": "code",
   "execution_count": 26,
   "id": "87ef25c4",
   "metadata": {},
   "outputs": [],
   "source": [
    "seph_perf = seph[seph['category']=='Perfume']"
   ]
  },
  {
   "cell_type": "code",
   "execution_count": 27,
   "id": "7d86fcfd",
   "metadata": {},
   "outputs": [],
   "source": [
    "seph_perf_pr =seph_perf[seph_perf.price < 60]"
   ]
  },
  {
   "cell_type": "code",
   "execution_count": 28,
   "id": "1333d8a1",
   "metadata": {},
   "outputs": [],
   "source": [
    "seph_perf_pr_rev= seph_perf_pr[seph_perf_pr['number_of_reviews'] >= 80]"
   ]
  },
  {
   "cell_type": "code",
   "execution_count": 32,
   "id": "10585c96",
   "metadata": {},
   "outputs": [],
   "source": [
    "final = seph_perf_pr_rev.sort_values(by = 'rating', ascending=False)"
   ]
  },
  {
   "cell_type": "code",
   "execution_count": 34,
   "id": "02bcb155",
   "metadata": {},
   "outputs": [
    {
     "data": {
      "text/plain": [
       "1624    https://www.sephora.com/product/skin-P294713?i...\n",
       "1721    https://www.sephora.com/product/clinique-happy...\n",
       "6627    https://www.sephora.com/product/pink-sugar-P44...\n",
       "6594    https://www.sephora.com/product/unconditional-...\n",
       "6570    https://www.sephora.com/product/falling-in-lov...\n",
       "Name: URL, dtype: object"
      ]
     },
     "execution_count": 34,
     "metadata": {},
     "output_type": "execute_result"
    }
   ],
   "source": [
    "final.iloc[:5]['URL']"
   ]
  },
  {
   "cell_type": "code",
   "execution_count": null,
   "id": "129dea55",
   "metadata": {},
   "outputs": [],
   "source": []
  }
 ],
 "metadata": {
  "kernelspec": {
   "display_name": "Python 3 (ipykernel)",
   "language": "python",
   "name": "python3"
  },
  "language_info": {
   "codemirror_mode": {
    "name": "ipython",
    "version": 3
   },
   "file_extension": ".py",
   "mimetype": "text/x-python",
   "name": "python",
   "nbconvert_exporter": "python",
   "pygments_lexer": "ipython3",
   "version": "3.9.7"
  }
 },
 "nbformat": 4,
 "nbformat_minor": 5
}
